{
 "cells": [
  {
   "cell_type": "markdown",
   "id": "225bd02f",
   "metadata": {
    "slideshow": {
     "slide_type": "slide"
    }
   },
   "source": [
    "<table align=\"left\">\n",
    "  <td>\n",
    "    <a href=\"https://colab.research.google.com/github/marco-canas/1_algebra/blob/main/classes/ciencia_datos/4_class/4_class_march_1_graficas_funciones.ipynb\" target=\"_parent\"><img src=\"https://colab.research.google.com/assets/colab-badge.svg\" alt=\"Open In Colab\"/></a>\n",
    "  </td>\n",
    "</table>"
   ]
  },
  {
   "cell_type": "markdown",
   "id": "f592ffd4",
   "metadata": {
    "slideshow": {
     "slide_type": "slide"
    }
   },
   "source": [
    "## [Video de apoyo a la escritura de este razonamiento deductivo](https://www.youtube.com/watch?v=yl6iL14JhfY)"
   ]
  },
  {
   "cell_type": "markdown",
   "id": "27feefae",
   "metadata": {
    "slideshow": {
     "slide_type": "slide"
    }
   },
   "source": [
    "# 2 Las bisectrices de un par lineal"
   ]
  },
  {
   "cell_type": "markdown",
   "id": "45fbd410",
   "metadata": {
    "slideshow": {
     "slide_type": "slide"
    }
   },
   "source": [
    "## Modelo de enseñanza: [Pedagogía invertida](https://www3.gobiernodecanarias.org/medusa/ecoescuela/pedagotic/aprendizaje-invertido-flipped-classroom/)  \n",
    "\n",
    "### Fuera del aula\n",
    "\n",
    "#### Docente:\n",
    "\n",
    "* Diseña y planea el proceso de enseñanza-aprendizaje del aula, integrando estrategias, modelos de enseñanza y metodologías (aprendizaje basado en proyectos, aprendizaje cooperativo y colaborativo,…).  \n",
    "\n",
    "* Diseña y planea actividades que se realizarán fuera del aula (ver vídeos, cumplimentar cuestionarios,…).  \n",
    "\n",
    "* Selecciona e integra la tecnología en actividades de aprendizaje activo.  \n",
    "\n",
    "* Diseña actividades de evaluación que promuevan el aprendizaje del alumnado.\n",
    "\n",
    "Alumnado:\n",
    "\n",
    "* Accede, cuantas veces necesite, a las actividades facilitadas por el profesorado.\n",
    "* Realiza las actividades propuestas.\n"
   ]
  },
  {
   "cell_type": "markdown",
   "id": "8c862461",
   "metadata": {
    "slideshow": {
     "slide_type": "slide"
    }
   },
   "source": [
    "Demostremos que las bisectrices de un par lineal son perpendiculares. "
   ]
  },
  {
   "cell_type": "markdown",
   "id": "709e0cce",
   "metadata": {
    "slideshow": {
     "slide_type": "slide"
    }
   },
   "source": [
    "### [Modelo pedagógico de enseñanza: Aula invertida]() "
   ]
  },
  {
   "cell_type": "markdown",
   "id": "98cb8b79",
   "metadata": {
    "slideshow": {
     "slide_type": "slide"
    }
   },
   "source": [
    "### Hipótesis: \n",
    "\n",
    "<img src = 'https://github.com/marco-canas/13_geo_euclidiana/blob/main/bisectrices_de_un_par_lineal.png?raw=true'>"
   ]
  },
  {
   "cell_type": "markdown",
   "id": "9fe8b201",
   "metadata": {
    "slideshow": {
     "slide_type": "slide"
    }
   },
   "source": [
    "## Demostración: "
   ]
  },
  {
   "cell_type": "markdown",
   "id": "ed200cca",
   "metadata": {
    "slideshow": {
     "slide_type": "slide"
    }
   },
   "source": [
    "1. "
   ]
  },
  {
   "cell_type": "code",
   "execution_count": null,
   "id": "5dd850a7",
   "metadata": {
    "slideshow": {
     "slide_type": "slide"
    }
   },
   "outputs": [],
   "source": []
  },
  {
   "cell_type": "code",
   "execution_count": null,
   "id": "4f06cc8a",
   "metadata": {},
   "outputs": [],
   "source": []
  },
  {
   "cell_type": "code",
   "execution_count": null,
   "id": "050763ed",
   "metadata": {},
   "outputs": [],
   "source": []
  },
  {
   "cell_type": "markdown",
   "id": "c55b7286",
   "metadata": {},
   "source": [
    "## Referentes  "
   ]
  },
  {
   "cell_type": "markdown",
   "id": "dc9b41d2",
   "metadata": {},
   "source": [
    "* [Geometría euclidiana]() de Rodolfo Londoño. Página "
   ]
  },
  {
   "cell_type": "markdown",
   "id": "d45ba8ad",
   "metadata": {},
   "source": [
    "[Evaluemos al profesor aquí](https://forms.office.com/Pages/ResponsePage.aspx?id=IefhmYRxjkmK_7KtTlPBwkanXIs1i1FEujpsZgO6dXpUREJPV1kxUk1JV1ozTFJIQVNIQjY5WEY3US4u)"
   ]
  },
  {
   "cell_type": "code",
   "execution_count": null,
   "id": "acc3c3ae",
   "metadata": {},
   "outputs": [],
   "source": []
  }
 ],
 "metadata": {
  "celltoolbar": "Slideshow",
  "kernelspec": {
   "display_name": "Python 3 (ipykernel)",
   "language": "python",
   "name": "python3"
  },
  "language_info": {
   "codemirror_mode": {
    "name": "ipython",
    "version": 3
   },
   "file_extension": ".py",
   "mimetype": "text/x-python",
   "name": "python",
   "nbconvert_exporter": "python",
   "pygments_lexer": "ipython3",
   "version": "3.9.13"
  }
 },
 "nbformat": 4,
 "nbformat_minor": 5
}
